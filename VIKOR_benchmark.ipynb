{
 "cells": [
  {
   "cell_type": "code",
   "execution_count": 43,
   "metadata": {},
   "outputs": [
    {
     "name": "stdout",
     "output_type": "stream",
     "text": [
      "      C0[▲ 0.796146]  C1[▼ 0.309714]  ...  C48[▲ 0.938330]  C49[▲ 0.057784]\n",
      "A0          0.700230        0.711267  ...         0.001915         0.030151\n",
      "A1          0.220536        0.719778  ...         0.232589         0.162975\n",
      "A2          0.503102        0.449932  ...         0.488931         0.123332\n",
      "A3          0.383397        0.733205  ...         0.439849         0.894847\n",
      "A4          0.037307        0.640961  ...         0.111241         0.360982\n",
      "...              ...             ...  ...              ...              ...\n",
      "A251        0.005544        0.239145  ...         0.671346         0.422388\n",
      "A252        0.428952        0.394405  ...         0.412408         0.143422\n",
      "A253        0.145775        0.681670  ...         0.996673         0.955625\n",
      "A254        0.503414        0.692740  ...         0.866759         0.241165\n",
      "A255        0.660705        0.283938  ...         0.279599         0.452701\n",
      "[256 Alternatives x 50 Criteria]\n"
     ]
    },
    {
     "name": "stderr",
     "output_type": "stream",
     "text": [
      "/home/luigi/scikit-criteria/env/lib/python3.13/site-packages/pandas/io/formats/format.py:1354: FutureWarning: Series.ravel is deprecated. The underlying array is already 1D, so ravel is not necessary.  Use `to_numpy()` for conversion to a numpy array instead.\n",
      "  for val, m in zip(values.ravel(), mask.ravel())\n"
     ]
    }
   ],
   "source": [
    "import numpy as np\n",
    "from skcriteria.preprocessing.scalers import (\n",
    "            matrix_scale_by_cenit_distance as scale,\n",
    "        )\n",
    "\n",
    "from skcriteria.utils import rank\n",
    "from skcriteria.core import data\n",
    "from skcriteria import core\n",
    "MAXS_O_ALIAS = list(core.Objective._MAX_ALIASES.value)\n",
    "MINS_O_ALIAS = list(core.Objective._MIN_ALIASES.value)\n",
    "def make(\n",
    "        *,\n",
    "        seed=None,\n",
    "        min_alternatives=256,\n",
    "        max_alternatives=256,\n",
    "        min_criteria=50,\n",
    "        max_criteria=50,\n",
    "        min_objectives_proportion=0.5,\n",
    "        nan_proportion=0,\n",
    "    ):\n",
    "        # start the random generator\n",
    "        random = np.random.default_rng(seed=seed)\n",
    "\n",
    "        # determine the number os alternatives and criteria\n",
    "        alternatives_number = (\n",
    "            random.integers(min_alternatives, max_alternatives)\n",
    "            if min_alternatives != max_alternatives\n",
    "            else min_alternatives\n",
    "        )\n",
    "        criteria_number = (\n",
    "            random.integers(min_criteria, max_criteria)\n",
    "            if min_criteria != max_criteria\n",
    "            else min_criteria\n",
    "        )\n",
    "\n",
    "        # create the data matrix with rows = alt and columns = crit\n",
    "        mtx = random.random((alternatives_number, criteria_number))\n",
    "\n",
    "        # if we have a nan ratio >0 of nan we have to add them randomly\n",
    "        # in the matrix\n",
    "        if nan_proportion:\n",
    "            nan_number = round(mtx.size * float(nan_proportion))\n",
    "            nan_positions = random.choice(mtx.size, nan_number, replace=False)\n",
    "            mtx.ravel()[nan_positions] = np.nan\n",
    "\n",
    "        # determine the number of minimize objectives based on the proportion\n",
    "        # of the total number of criteria, and the maximize is the complement\n",
    "        min_objectives_number = round(\n",
    "            criteria_number * min_objectives_proportion\n",
    "        )\n",
    "        max_objectives_number = round(\n",
    "            criteria_number * 1.0 - min_objectives_number\n",
    "        )\n",
    "\n",
    "        # if the proportion is lt or gt than the total number of criteria\n",
    "        # we add or remove an objective\n",
    "        while min_objectives_number + max_objectives_number < criteria_number:\n",
    "            if random.choice([True, False]):\n",
    "                max_objectives_number += 1\n",
    "            else:\n",
    "                min_objectives_number += 1\n",
    "        while min_objectives_number + max_objectives_number > criteria_number:\n",
    "            if random.choice([True, False]):\n",
    "                max_objectives_number -= 1\n",
    "            else:\n",
    "                min_objectives_number -= 1\n",
    "\n",
    "        # finally we extract the objectives and shuffle the order\n",
    "        objectives = np.concatenate(\n",
    "            [\n",
    "                random.choice(MINS_O_ALIAS, min_objectives_number),\n",
    "                random.choice(MAXS_O_ALIAS, max_objectives_number),\n",
    "            ]\n",
    "        )\n",
    "        random.shuffle(objectives)\n",
    "\n",
    "        # the weights\n",
    "        weights = random.random(criteria_number)\n",
    "\n",
    "        # create the names of the criteria and the alternatives\n",
    "        alternatives = [f\"A{idx}\" for idx in range(alternatives_number)]\n",
    "        criteria = [f\"C{idx}\" for idx in range(criteria_number)]\n",
    "\n",
    "        return mtx, objectives, weights, alternatives, criteria\n",
    "\n",
    "mtx, objectives, weights, alternatives, criteria = make()\n",
    "\n",
    "dm = data.mkdm(\n",
    "        matrix=mtx,\n",
    "        objectives=objectives,\n",
    "        weights=weights,\n",
    "        alternatives=alternatives,\n",
    "        criteria=criteria,\n",
    "    )\n",
    "print(dm)\n",
    "dict_=dm.to_dict()\n",
    "\n",
    "matrix = dict_[\"matrix\"]\n",
    "objectives = dict_[\"objectives\"]\n",
    "weights = dict_[\"weights\"]\n",
    "\n",
    "matrix_scaled = scale(matrix, objectives * -1) * weights\n",
    "\n",
    "# New criteria: Manhattan distance and Chebyshev distance\n",
    "def ncriteria_to_2criteria(alternative):\n",
    "    return (np.sum(alternative), np.max(alternative))\n",
    "\n",
    "# N criteria problem -> 2 criteria problem\n",
    "distances_matrix = np.apply_along_axis(\n",
    "    ncriteria_to_2criteria, 1, matrix_scaled\n",
    ")\n",
    "# distances_matrix = np.column_stack((\n",
    "#     np.sum(matrix_scaled), np.max(matrix_scaled))\n",
    "# ) # Alternative, to be checked\n",
    "distances_matrix_scaled = scale(distances_matrix, [1, 1])\n",
    "# We now do weighted sum of our 2 criteria with weights [v, 1-v]\n",
    "q_k = np.dot(distances_matrix_scaled, [0.5, 0.5])\n",
    "# Rank them\n",
    "rank_q_k = rank.rank_values(q_k, reverse=False)\n",
    "\n",
    "# Check if solution is acceptable\n",
    "has_rank1_qs = np.where(\n",
    "    rank_q_k == 1, 1, 0\n",
    ")  # probably can delete this array\n",
    "rank1_cnt = np.sum(has_rank1_qs == 1)\n",
    "\n",
    "# best_q_value = q_k[chosen_qs[0][0]]  # The value of the best q\n",
    "best_q_value = np.min(q_k)\n",
    "\n",
    "# DEBUG(chosen_qs,best_q_value, best_qq_value)\n",
    "dq = 1 / (len(matrix) - 1)\n",
    "qs_with_acceptable_advantage = np.where(q_k - best_q_value < dq)\n",
    "\n",
    "# chosen_qs always have acc. adv., therefore same len <=> same qs\n",
    "has_acceptable_advantage = (\n",
    "    len(qs_with_acceptable_advantage[0]) == rank1_cnt\n",
    ")\n",
    "\n"
   ]
  },
  {
   "cell_type": "code",
   "execution_count": 44,
   "metadata": {},
   "outputs": [
    {
     "name": "stdout",
     "output_type": "stream",
     "text": [
      "6.22 μs ± 124 ns per loop (mean ± std. dev. of 7 runs, 100,000 loops each)\n"
     ]
    }
   ],
   "source": [
    "%%timeit\n",
    "has_any_best_coordinate = np.where(distances_matrix_scaled[:,1] * distances_matrix_scaled[:,0] == 0, 1, 0)\n",
    "stables_rank1_cnt = np.sum(has_rank1_qs * has_any_best_coordinate == 1)\n",
    "has_acceptable_stability = rank1_cnt == stables_rank1_cnt\n"
   ]
  },
  {
   "cell_type": "code",
   "execution_count": 45,
   "metadata": {},
   "outputs": [
    {
     "name": "stdout",
     "output_type": "stream",
     "text": [
      "25 μs ± 2.76 μs per loop (mean ± std. dev. of 7 runs, 10,000 loops each)\n"
     ]
    }
   ],
   "source": [
    "%%timeit\n",
    "chosen_qs = np.where(rank_q_k == 1)  # Possibly many qs with rank 1\n",
    "bests = np.any(distances_matrix_scaled == 0, axis=1).nonzero()\n",
    "has_acceptable_stability = np.isin(chosen_qs, bests).all()\n"
   ]
  },
  {
   "cell_type": "code",
   "execution_count": 46,
   "metadata": {},
   "outputs": [
    {
     "name": "stdout",
     "output_type": "stream",
     "text": [
      "6.15 μs ± 21.6 ns per loop (mean ± std. dev. of 7 runs, 100,000 loops each)\n"
     ]
    }
   ],
   "source": [
    "%%timeit\n",
    "multiplied_together = np.prod(distances_matrix_scaled, axis=1)\n",
    "magic = rank_q_k * multiplied_together# todo: check types\n",
    "zero_cnt = np.count_nonzero(magic == 0)\n",
    "magic_cnt = np.count_nonzero(multiplied_together == magic)\n",
    "has_acceptable_stability = zero_cnt == magic_cnt\n"
   ]
  },
  {
   "cell_type": "code",
   "execution_count": 47,
   "metadata": {},
   "outputs": [
    {
     "name": "stdout",
     "output_type": "stream",
     "text": [
      "8.29 μs ± 89.8 ns per loop (mean ± std. dev. of 7 runs, 100,000 loops each)\n"
     ]
    }
   ],
   "source": [
    "%%timeit\n",
    "chosen_qs = np.where(rank_q_k == 1)  # Possibly many qs with rank 1\n",
    "bests = np.any(distances_matrix_scaled == 0, axis=1).nonzero()\n",
    "has_acceptable_stability = set(chosen_qs[0]).issubset(set(bests[0]))"
   ]
  }
 ],
 "metadata": {
  "kernelspec": {
   "display_name": "env",
   "language": "python",
   "name": "python3"
  },
  "language_info": {
   "codemirror_mode": {
    "name": "ipython",
    "version": 3
   },
   "file_extension": ".py",
   "mimetype": "text/x-python",
   "name": "python",
   "nbconvert_exporter": "python",
   "pygments_lexer": "ipython3",
   "version": "3.13.3"
  }
 },
 "nbformat": 4,
 "nbformat_minor": 2
}
