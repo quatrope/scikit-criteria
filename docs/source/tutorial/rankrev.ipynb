{
 "cells": [
  {
   "cell_type": "markdown",
   "id": "453eceaa-8159-4a7e-85dd-0562d6bb98c7",
   "metadata": {},
   "source": [
    "# Rank reversals\n",
    "\n",
    "This tutorial provides an overview of the use of the scikit-criteria ranking comparison tools.\n",
    "\n",
    "## Context and motivation\n",
    "\n",
    "Multi-criteria decision methods may present irregularities in their rankings that compromise the reliability of their results.\n",
    "Depending on how the alternatives are defined and evaluated in a problem, rank reversals are classified in five types.\n",
    "To evaluate the robustness of these methods, Wang & Triantaphyllou (2006) proposed three test criteria that cover all five kinds of rank reversals.\n",
    "\n",
    "1. **Rank invariance**: The rank of an optimal alternative must remain invariant when a sub-optimal alternative is worsened.\n",
    "2. **Transitivity**: when a decision problem is partitioned in smaller sub-problems, the relative transitivity of alternatives must be retained.\n",
    "2. **Recomposition consistency**: a new ranking constructed from a set of smaller sub-problems must be equivalent to the ranking obtained from running the original method."
   ]
  },
  {
   "cell_type": "markdown",
   "id": "d8ef800d-3778-4d70-9c67-75d443e8a577",
   "metadata": {
    "jp-MarkdownHeadingCollapsed": true
   },
   "source": [
    "## Rank reversal checking in scikit-criteria\n",
    "\n",
    "In scikit-criteria we implement rank reversal checking via the classes `RankInvariantChecker` and `TransitivityChecker`, which are available in the `skcriteria.ranksrev` module. Rank reversal checkers take an MCDM as a parameter, along with other relevant information, and implement an `evaluate()` method against a specific decision matrix.\n",
    "\n",
    "In the following sections we'll review the usage of each checker to verify the validity of some example MCDMs."
   ]
  },
  {
   "cell_type": "markdown",
   "id": "46ce5423-e36a-412c-9f23-8236f9ad03f2",
   "metadata": {},
   "source": [
    "## Test criterion 1 - Rank Invariance\n",
    "\n",
    "Test criterion 1 evaluates the stability of an MCDM method's top-ranked alternative under minor degradations of non-optimal alternatives, which roughly attempts to detect rank reversals due to irrelevant changes.\n",
    "\n",
    "In its most basic form, the `RankInvariantChecker` works by worsening each sub-optimal alternative by a chosen amount `repeat` times, and stores every result in a `RanksComparator`."
   ]
  },
  {
   "cell_type": "markdown",
   "id": "1954a03e-2c13-4ac6-9d38-6e553113d9da",
   "metadata": {},
   "source": [
    "### Experiment setup (TODO: make this a propper example)"
   ]
  },
  {
   "cell_type": "code",
   "execution_count": null,
   "id": "169e6611-f695-4f3e-af8f-22e13a6faeb8",
   "metadata": {},
   "outputs": [],
   "source": [
    "import skcriteria as skc\n",
    "from skcriteria.pipeline import mkpipe\n",
    "from skcriteria.preprocessing.invert_objectives import InvertMinimize\n",
    "from skcriteria.preprocessing.scalers import SumScaler, VectorScaler\n",
    "from skcriteria.preprocessing.filters import FilterNonDominated\n",
    "from skcriteria.agg.simple import WeightedSumModel\n",
    "\n",
    "method = mkpipe(\n",
    "    InvertMinimize(),\n",
    "    FilterNonDominated(),\n",
    "    SumScaler(target=\"weights\"),\n",
    "    VectorScaler(target=\"matrix\"),\n",
    "    WeightedSumModel(),\n",
    ")\n",
    "\n",
    "# Load Van 2021 Evaluation Dataset of cryptocurrencies\n",
    "dm = skc.datasets.load_van2021evaluation(windows_size=7)"
   ]
  },
  {
   "cell_type": "code",
   "execution_count": null,
   "id": "47185a26-552c-4b46-ad2f-d43ccc2b8b67",
   "metadata": {},
   "outputs": [],
   "source": [
    "from skcriteria.ranksrev import RankInvariantChecker\n",
    "\n",
    "checker1 = RankInvariantChecker(dmaker=method, repeat=10, random_state=42)\n",
    "# results1 = checker1.evaluate(dm)"
   ]
  },
  {
   "cell_type": "markdown",
   "id": "3b5559ec-653b-4b82-afe4-5e97f7758ee1",
   "metadata": {},
   "source": [
    "## Test criterions 2 & 3 - Transitivity and Recomposition Consistency\n",
    "\n",
    "Test criterions 2 and 3 are closely connected in their goal of evaluating the internal consistency and robustness MCDMs via problem decomposition.\n",
    "\n",
    "- **Test Criterion 2 (Transitivity):**  Ensures that transitivity holds across pairwise comparisons that is, if alternative $A_1 \\succ A_2$, and $A_2 \\succ A_3$, then $A_1 \\succ A_3$.\n",
    "- **Test Criterion 3 (Recomposition Consistency):** Builds a total ordering from pairwise relationships to recompose them into a complete global ranking for comparison against the original ranking.\n",
    "\n",
    "Because of this similarity, we opted to unify both criteria into a single class `TransitivityChecker`, that runs both tests secuentially and yields all the relevant details about the test criterions that were encountered in the process."
   ]
  },
  {
   "cell_type": "markdown",
   "id": "a8b6093a-52bf-4c09-8b43-67cf2b44f4c6",
   "metadata": {},
   "source": [
    "### Example failing both test cases\n",
    "\n",
    "For this example we'll use a dataset proposed by Poh & Ang (1999) in search of alternative fuels for land transportation in Singapore."
   ]
  },
  {
   "cell_type": "code",
   "execution_count": 2,
   "id": "7d7fd0fb-4da1-4800-81f8-ec2b6c020ec8",
   "metadata": {},
   "outputs": [],
   "source": [
    "import skcriteria as skc\n",
    "from skcriteria.pipeline import mkpipe\n",
    "from skcriteria.preprocessing.scalers import SumScaler, VectorScaler\n",
    "from skcriteria.preprocessing.invert_objectives import InvertMinimize\n",
    "from skcriteria.preprocessing.filters import FilterNonDominated\n",
    "from skcriteria.agg.similarity import TOPSIS\n",
    "from skcriteria.ranksrev.transitivity_check import TransitivityChecker"
   ]
  },
  {
   "cell_type": "code",
   "execution_count": 8,
   "id": "ade84c5f-25c2-4aab-8cf4-1c1f6c2ff777",
   "metadata": {},
   "outputs": [],
   "source": [
    "# Create a decision matrix\n",
    "dm = skc.mkdm(\n",
    "    matrix=[\n",
    "        [4.57, 4.64, 62.2, 43.8, 8.49, 65.7],\n",
    "        [65.7, 67.3, 6.03, 43.8, 4.25, 9.42],\n",
    "        [20.3, 14.0, 20.2, 6.25, 58.3, 20.3],\n",
    "        [9.42, 14.0, 11.5, 6.25, 29.0, 4.57]\n",
    "    ],\n",
    "    objectives=[max, max, max, max, max, max],\n",
    "    alternatives=[\"status quo\", \"oil & ev\", \"oil & ngv\", \"methanol\"],\n",
    "    criteria=[\"supply\", \"emission\", \"tech\", \"safety\", \"cost\", \"consumer preference\"]\n",
    ")"
   ]
  },
  {
   "cell_type": "markdown",
   "id": "e4f47f87",
   "metadata": {},
   "source": [
    "To pick our best choice, we'll use a TOPSIS based method and print the resulting ranking."
   ]
  },
  {
   "cell_type": "code",
   "execution_count": 9,
   "id": "7ccaef4a-2f10-42ab-8bc5-056681066012",
   "metadata": {
    "scrolled": true
   },
   "outputs": [
    {
     "name": "stdout",
     "output_type": "stream",
     "text": [
      "Original TOPSIS ranking:\n",
      "Alternatives: ['status quo' 'oil & ev' 'oil & ngv' 'methanol']\n",
      "Ranks: [2 1 3 4]\n"
     ]
    }
   ],
   "source": [
    "# Define TOPSIS pipeline\n",
    "topsis_pipe = mkpipe(\n",
    "    SumScaler(target=\"weights\"),\n",
    "    VectorScaler(target=\"matrix\"),\n",
    "    TOPSIS()\n",
    ")\n",
    "\n",
    "# Get original ranking\n",
    "original_result = topsis_pipe.evaluate(dm)\n",
    "print(\"Original TOPSIS ranking:\")\n",
    "print(f\"Alternatives: {original_result.alternatives}\")\n",
    "print(f\"Ranks: {original_result.rank_}\")"
   ]
  },
  {
   "cell_type": "markdown",
   "id": "7b627ad8-eb32-49ab-be37-a2c6a3b08232",
   "metadata": {},
   "source": [
    "To verify that we made the right choice picking TOPSIS, we'll be using the `TransitivityChecker`.\n",
    "As we stated before, for this we'll need our original pipeline, but we also add two extra parameters:\n",
    "\n",
    "* `allow_missing_alternatives`: desicion maker pipelines can sometimes return rankings with fewer alternatives than the original ones (using a pipeline that implements a filter, for example), which could cause issues in some partitions. This parameter allows for missing alternatives in a ranking to be added with a value of the maximum value of the ranking obtained + 1.\n",
    "\n",
    "* `max_ranks`: limits the amount of rankings that can be constructed during the recomposition phase."
   ]
  },
  {
   "cell_type": "code",
   "execution_count": 11,
   "id": "146301d0",
   "metadata": {},
   "outputs": [],
   "source": [
    "checker = TransitivityChecker(\n",
    "    topsis_pipe, allow_missing_alternatives=True, max_ranks=10\n",
    ")"
   ]
  },
  {
   "cell_type": "code",
   "execution_count": 12,
   "id": "f2e8e63f-e48f-43a2-854f-404182ed7540",
   "metadata": {},
   "outputs": [
    {
     "name": "stdout",
     "output_type": "stream",
     "text": [
      "Transitivity Analysis Results:\n",
      "Test Criterion 2 (Transitivity): Not Passed\n",
      "Test Criterion 3 (Recomposition Consistency): Not Passed\n",
      "Transitivity Break Rate: 0.5000\n"
     ]
    }
   ],
   "source": [
    "results = checker.evaluate(dm=dm)\n",
    "\n",
    "print(\"Transitivity Analysis Results:\")\n",
    "print(f\"Test Criterion 2 (Transitivity): {results.extra_['test_criterion_2']}\")\n",
    "print(\n",
    "    f\"Test Criterion 3 (Recomposition Consistency): {results.extra_['test_criterion_3']}\"\n",
    ")\n",
    "print(\n",
    "    f\"Transitivity Break Rate: {results.extra_['transitivity_break_rate']:.4f}\"\n",
    ")"
   ]
  },
  {
   "cell_type": "markdown",
   "id": "e2e94749",
   "metadata": {},
   "source": [
    "The `TransitivityChecker` evaluation provides several key pieces of information:\n",
    "\n",
    "1. **Test Criterion 2 Result**: Indicates whether the method maintains transitivity across all pairwise comparisons\n",
    "2. **Test Criterion 3 Result**: Shows whether the recomposed ranking matches the original ranking\n",
    "3. **Transitivity Break Rate**: A normalized measure of how many transitivity violations exist relative to the theoretical maximum.\n",
    "\n",
    "Given that our pipeline failed the test, we should be able to see many different rankings of our original desicion matrix."
   ]
  },
  {
   "cell_type": "code",
   "execution_count": 13,
   "id": "c1a944ba",
   "metadata": {},
   "outputs": [
    {
     "name": "stdout",
     "output_type": "stream",
     "text": [
      "Ranking Comparison:\n",
      "\n",
      "Original:\n",
      "  status quo                → rank 2\n",
      "  oil & ev                  → rank 1\n",
      "  oil & ngv                 → rank 3\n",
      "  methanol                  → rank 4\n",
      "\n",
      "Recomposition1:\n",
      "  status quo                → rank 1\n",
      "  oil & ev                  → rank 2\n",
      "  oil & ngv                 → rank 3\n",
      "  methanol                  → rank 4\n",
      "\n",
      "Recomposition2:\n",
      "  status quo                → rank 3\n",
      "  oil & ev                  → rank 1\n",
      "  oil & ngv                 → rank 2\n",
      "  methanol                  → rank 4\n",
      "\n",
      "Recomposition3:\n",
      "  status quo                → rank 2\n",
      "  oil & ev                  → rank 3\n",
      "  oil & ngv                 → rank 1\n",
      "  methanol                  → rank 4\n"
     ]
    }
   ],
   "source": [
    "print(\"Ranking Comparison:\")\n",
    "\n",
    "items = list(results.named_ranks.items())\n",
    "for rank_name, ranking in items[:4]:\n",
    "    print(f\"\\n{rank_name}:\")\n",
    "    for alt, rank_val in zip(ranking.alternatives, ranking.rank_):\n",
    "        print(f\"  {alt:25} → rank {rank_val}\")"
   ]
  },
  {
   "cell_type": "markdown",
   "id": "9a9b0341",
   "metadata": {},
   "source": [
    "### Example that passes both tests"
   ]
  },
  {
   "cell_type": "code",
   "execution_count": 6,
   "id": "cad94a12",
   "metadata": {},
   "outputs": [
    {
     "name": "stdout",
     "output_type": "stream",
     "text": [
      "Original TOPSIS ranking:\n",
      "Alternatives: ['PE' 'JN' 'AA' 'FX' 'MM' 'GN']\n",
      "Ranks: [3 5 2 6 4 1]\n",
      "\n",
      "Transitivity Analysis Results:\n",
      "Test Criterion 2 (Transitivity): Passed\n",
      "Test Criterion 3 (Recomposition Consistency): Passed\n",
      "Transitivity Break Rate: 0.0000\n"
     ]
    },
    {
     "name": "stderr",
     "output_type": "stream",
     "text": [
      "/home/paula/Desktop/PhD/scikit/lib/python3.12/site-packages/skcriteria/agg/similarity.py:127: UserWarning: Although TOPSIS can operate with minimization objectives, this is not recommended. Consider reversing the weights for these cases.\n",
      "  warnings.warn(\n"
     ]
    }
   ],
   "source": [
    "# Create a decision matrix for energy alternatives\n",
    "dm = skc.datasets.load_simple_stock_selection()\n",
    "\n",
    "# Define TOPSIS pipeline\n",
    "ws_pipe = mkpipe(\n",
    "    InvertMinimize(),\n",
    "    FilterNonDominated(),\n",
    "    TOPSIS()\n",
    ")\n",
    "\n",
    "# Get original ranking\n",
    "original_result = topsis_pipe.evaluate(dm)\n",
    "print(\"Original TOPSIS ranking:\")\n",
    "print(f\"Alternatives: {original_result.alternatives}\")\n",
    "print(f\"Ranks: {original_result.rank_}\")\n",
    "\n",
    "# Create the transitivity checker\n",
    "checker = TransitivityChecker(ws_pipe,\n",
    "                              allow_missing_alternatives=True,\n",
    "                              max_ranks=1000)\n",
    "\n",
    "# Run the transitivity evaluation\n",
    "results = checker.evaluate(dm=dm)\n",
    "\n",
    "print(\"\\nTransitivity Analysis Results:\")\n",
    "print(f\"Test Criterion 2 (Transitivity): {results.extra_['test_criterion_2']}\")\n",
    "print(\n",
    "    f\"Test Criterion 3 (Recomposition Consistency): {results.extra_['test_criterion_3']}\"\n",
    ")\n",
    "print(\n",
    "    f\"Transitivity Break Rate: {results.extra_['transitivity_break_rate']:.4f}\"\n",
    ")"
   ]
  },
  {
   "cell_type": "markdown",
   "id": "c533a0ca",
   "metadata": {},
   "source": [
    "The plot below shows the ranking results for each alternative, with confidence intervals indicating the stability of rankings across different evaluation scenarios. The dashed line connects the mean ranks to visualize potential transitivity issues in the decision matrix."
   ]
  },
  {
   "cell_type": "code",
   "execution_count": 7,
   "id": "ab31d68f",
   "metadata": {},
   "outputs": [
    {
     "data": {
      "image/png": "[encoded data removed]",
      "text/plain": [
       "<Figure size 640x480 with 1 Axes>"
      ]
     },
     "metadata": {},
     "output_type": "display_data"
    }
   ],
   "source": [
    "import matplotlib.pyplot as plt\n",
    "results.plot()\n",
    "plt.plot(results[0],marker='o',linestyle='--')\n",
    "plt.show()"
   ]
  },
  {
   "cell_type": "markdown",
   "id": "ce7049b5-35cf-4db5-a3c5-2aa7728dea49",
   "metadata": {},
   "source": [
    "### Untying and Recomposition strategies"
   ]
  },
  {
   "cell_type": "code",
   "execution_count": null,
   "id": "e428cdcd-c574-4729-8ace-903781f2b79d",
   "metadata": {},
   "outputs": [],
   "source": []
  },
  {
   "cell_type": "markdown",
   "id": "62c09868-356c-4d3c-80c0-cca063083b7e",
   "metadata": {},
   "source": [
    "## References\n",
    "\n",
    "- Wang & Triantaphyllou (2006). Ranking Irregularities When Evaluating Alternatives by Using Some Multi- Criteria Decision Analysis Methods.\n",
    "- Poh & Ang (1999). Transportation fuels and policy for Singapore: an AHP planning approach."
   ]
  }
 ],
 "metadata": {
  "kernelspec": {
   "display_name": "Python 3 (ipykernel)",
   "language": "python",
   "name": "python3"
  },
  "language_info": {
   "codemirror_mode": {
    "name": "ipython",
    "version": 3
   },
   "file_extension": ".py",
   "mimetype": "text/x-python",
   "name": "python",
   "nbconvert_exporter": "python",
   "pygments_lexer": "ipython3",
   "version": "3.12.10"
  }
 },
 "nbformat": 4,
 "nbformat_minor": 5
}
