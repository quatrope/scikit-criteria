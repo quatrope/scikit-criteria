{
 "cells": [
  {
   "cell_type": "markdown",
   "id": "453eceaa-8159-4a7e-85dd-0562d6bb98c7",
   "metadata": {},
   "source": [
    "# Rank reversals\n",
    "\n",
    "This tutorial provides an overview of the use of the scikit-criteria ranking comparison tools.\n",
    "\n",
    "## Context and motivation\n",
    "\n",
    "Multi-criteria decision methods may present irregularities in their rankings that compromise the reliability of their results.\n",
    "Depending on how the alternatives are defined and evaluated in a problem, rank reversals are classified in five types.\n",
    "To evaluate the robustness of these methods, Wang & Triantaphyllou (2006) proposed three test criteria that cover all five kinds of rank reversals.\n",
    "\n",
    "1. **Rank invariance**: The rank of an optimal alternative must remain invariant when a sub-optimal alternative is worsened.\n",
    "2. **Transitivity**: when a decision problem is partitioned in smaller sub-problems, the relative transitivity of alternatives must be retained.\n",
    "2. **Recomposition consistency**: a new ranking constructed from a set of smaller sub-problems must be equivalent to the ranking obtained from running the original method."
   ]
  },
  {
   "cell_type": "markdown",
   "id": "d8ef800d-3778-4d70-9c67-75d443e8a577",
   "metadata": {
    "jp-MarkdownHeadingCollapsed": true
   },
   "source": [
    "## Rank reversal checking in scikit-criteria\n",
    "\n",
    "In scikit-criteria we implement rank reversal checking via the classes `RankInvariantChecker` and `TransitivityChecker`, which are available in the `skcriteria.ranksrev` module. Rank reversal checkers take an MCDM as a parameter, along with other relevant information, and implement an `evaluate()` method against a specific decision matrix.\n",
    "\n",
    "In the following sections we'll review the usage of each checker to verify the validity of some example MCDMs."
   ]
  },
  {
   "cell_type": "markdown",
   "id": "46ce5423-e36a-412c-9f23-8236f9ad03f2",
   "metadata": {},
   "source": [
    "## Test criterion 1 - Rank Invariance\n",
    "\n",
    "Test criterion 1 evaluates the stability of an MCDM method's top-ranked alternative under minor degradations of non-optimal alternatives, which roughly attempts to detect rank reversals due to irrelevant changes.\n",
    "\n",
    "In its most basic form, the `RankInvariantChecker` works by worsening each sub-optimal alternative by a chosen amount `repeat` times, and stores every result in a `RanksComparator`."
   ]
  },
  {
   "cell_type": "markdown",
   "id": "1954a03e-2c13-4ac6-9d38-6e553113d9da",
   "metadata": {},
   "source": [
    "### Example\n",
    "\n",
    "We will apply this test to the Van 2021 Evaluation dataset, which ranks cryptocurrencies using a sliding window of 7 days."
   ]
  },
  {
   "cell_type": "code",
   "execution_count": 131,
   "id": "533abdd8",
   "metadata": {},
   "outputs": [],
   "source": [
    "import skcriteria as skc\n",
    "from skcriteria.pipeline import mkpipe\n",
    "from skcriteria.preprocessing.scalers import SumScaler, VectorScaler\n",
    "from skcriteria.preprocessing.invert_objectives import InvertMinimize\n",
    "from skcriteria.agg.similarity import TOPSIS\n",
    "from skcriteria.ranksrev import RankInvariantChecker"
   ]
  },
  {
   "cell_type": "code",
   "execution_count": 132,
   "id": "169e6611-f695-4f3e-af8f-22e13a6faeb8",
   "metadata": {},
   "outputs": [
    {
     "data": {
      "text/html": [
       "<div class='skcresult-rank skcresult'>\n",
       "<style type=\"text/css\">\n",
       "</style>\n",
       "<table id=\"T_9cefa\">\n",
       "  <thead>\n",
       "    <tr>\n",
       "      <th class=\"index_name level0\" >Alternatives</th>\n",
       "      <th id=\"T_9cefa_level0_col0\" class=\"col_heading level0 col0\" >ADA</th>\n",
       "      <th id=\"T_9cefa_level0_col1\" class=\"col_heading level0 col1\" >BNB</th>\n",
       "      <th id=\"T_9cefa_level0_col2\" class=\"col_heading level0 col2\" >BTC</th>\n",
       "      <th id=\"T_9cefa_level0_col3\" class=\"col_heading level0 col3\" >DOGE</th>\n",
       "      <th id=\"T_9cefa_level0_col4\" class=\"col_heading level0 col4\" >ETH</th>\n",
       "      <th id=\"T_9cefa_level0_col5\" class=\"col_heading level0 col5\" >LINK</th>\n",
       "      <th id=\"T_9cefa_level0_col6\" class=\"col_heading level0 col6\" >LTC</th>\n",
       "      <th id=\"T_9cefa_level0_col7\" class=\"col_heading level0 col7\" >XLM</th>\n",
       "      <th id=\"T_9cefa_level0_col8\" class=\"col_heading level0 col8\" >XRP</th>\n",
       "    </tr>\n",
       "  </thead>\n",
       "  <tbody>\n",
       "    <tr>\n",
       "      <th id=\"T_9cefa_level0_row0\" class=\"row_heading level0 row0\" >Rank</th>\n",
       "      <td id=\"T_9cefa_row0_col0\" class=\"data row0 col0\" >8</td>\n",
       "      <td id=\"T_9cefa_row0_col1\" class=\"data row0 col1\" >2</td>\n",
       "      <td id=\"T_9cefa_row0_col2\" class=\"data row0 col2\" >1</td>\n",
       "      <td id=\"T_9cefa_row0_col3\" class=\"data row0 col3\" >5</td>\n",
       "      <td id=\"T_9cefa_row0_col4\" class=\"data row0 col4\" >4</td>\n",
       "      <td id=\"T_9cefa_row0_col5\" class=\"data row0 col5\" >6</td>\n",
       "      <td id=\"T_9cefa_row0_col6\" class=\"data row0 col6\" >7</td>\n",
       "      <td id=\"T_9cefa_row0_col7\" class=\"data row0 col7\" >3</td>\n",
       "      <td id=\"T_9cefa_row0_col8\" class=\"data row0 col8\" >9</td>\n",
       "    </tr>\n",
       "  </tbody>\n",
       "</table>\n",
       "<em class='skcresult-method'>Method: TOPSIS</em>\n",
       "</div>"
      ],
      "text/plain": [
       "Alternatives  ADA  BNB  BTC  DOGE  ETH  LINK  LTC  XLM  XRP\n",
       "Rank            8    2    1     5    4     6    7    3    9\n",
       "[Method: TOPSIS]"
      ]
     },
     "metadata": {},
     "output_type": "display_data"
    }
   ],
   "source": [
    "# Load Van 2021 Evaluation Dataset of cryptocurrencies\n",
    "dm = skc.datasets.load_van2021evaluation(windows_size=7)\n",
    "\n",
    "# Create the MCDA pipeline\n",
    "dmaker = mkpipe(\n",
    "    InvertMinimize(),\n",
    "    SumScaler(target=\"weights\"),\n",
    "    VectorScaler(target=\"matrix\"),\n",
    "    TOPSIS()\n",
    ")\n",
    "\n",
    "original_result = dmaker.evaluate(dm)\n",
    "display(original_result)"
   ]
  },
  {
   "cell_type": "markdown",
   "id": "70c35739",
   "metadata": {},
   "source": [
    "Now we wrap our MCDA method with the `RankInvariantChecker`, which will:\n",
    "- Apply small degradations to each suboptimal alternative,\n",
    "- Recompute the ranking each time,\n",
    "- Collect and compare all rankings.\n",
    "\n",
    "We'll repeat the mutation twice per alternative."
   ]
  },
  {
   "cell_type": "code",
   "execution_count": 133,
   "id": "ef8a1bde",
   "metadata": {},
   "outputs": [],
   "source": [
    "# Create the stability evaluator\n",
    "rrt1 = RankInvariantChecker(\n",
    "    dmaker=dmaker,\n",
    "    repeat=2,\n",
    "    allow_missing_alternatives=True\n",
    ")\n",
    "\n",
    "# Execute the RRT1 test\n",
    "comparison = rrt1.evaluate(dm)"
   ]
  },
  {
   "cell_type": "markdown",
   "id": "97ef2173",
   "metadata": {},
   "source": [
    "We can plot a boxplot of the ranks received by each alternative across all RRT1 mutations.  \n",
    "This allows us to observe:\n",
    "- How stable each alternative's position is,\n",
    "- Whether the top-ranked option remains consistent,\n",
    "- How sensitive each alternative is to perturbations."
   ]
  },
  {
   "cell_type": "code",
   "execution_count": 134,
   "id": "a86538df",
   "metadata": {},
   "outputs": [
    {
     "data": {
      "image/png": "[encoded data removed]",
      "text/plain": [
       "<Figure size 640x480 with 1 Axes>"
      ]
     },
     "metadata": {},
     "output_type": "display_data"
    }
   ],
   "source": [
    "import matplotlib.pyplot as plt\n",
    "\n",
    "ax = comparison.plot()\n",
    "ax.plot(\n",
    "    original_result,\n",
    "    marker=\"o\",\n",
    "    linestyle=\"--\",\n",
    "    color=\"orange\",\n",
    "    label=\"Original results\",\n",
    "    zorder=3,\n",
    ")\n",
    "ax.legend()\n",
    "plt.tight_layout()"
   ]
  },
  {
   "cell_type": "markdown",
   "id": "3b5559ec-653b-4b82-afe4-5e97f7758ee1",
   "metadata": {},
   "source": [
    "## Test criterions 2 & 3 - Transitivity and Recomposition Consistency\n",
    "\n",
    "Test criterions 2 and 3 are closely connected in their goal of evaluating the internal consistency and robustness MCDMs via problem decomposition.\n",
    "\n",
    "- **Test Criterion 2 (Transitivity):**  Ensures that transitivity holds across pairwise comparisons that is, if alternative $A_1 \\succ A_2$, and $A_2 \\succ A_3$, then $A_1 \\succ A_3$.\n",
    "- **Test Criterion 3 (Recomposition Consistency):** Builds a total ordering from pairwise relationships to recompose them into a complete global ranking for comparison against the original ranking.\n",
    "\n",
    "Because of this similarity, we opted to unify both criteria into a single class `TransitivityChecker`, that runs both tests secuentially and yields all the relevant details about the test criterions that were encountered in the process."
   ]
  },
  {
   "cell_type": "markdown",
   "id": "a8b6093a-52bf-4c09-8b43-67cf2b44f4c6",
   "metadata": {},
   "source": [
    "### Example failing both test cases\n",
    "\n",
    "For this example we'll use a dataset proposed by Poh & Ang (1999) in search of alternative fuels for land transportation in Singapore."
   ]
  },
  {
   "cell_type": "code",
   "execution_count": 135,
   "id": "7d7fd0fb-4da1-4800-81f8-ec2b6c020ec8",
   "metadata": {},
   "outputs": [],
   "source": [
    "import skcriteria as skc\n",
    "from skcriteria.pipeline import mkpipe\n",
    "from skcriteria.preprocessing.scalers import SumScaler, VectorScaler\n",
    "from skcriteria.preprocessing.invert_objectives import InvertMinimize\n",
    "from skcriteria.preprocessing.filters import FilterNonDominated\n",
    "from skcriteria.agg.similarity import TOPSIS\n",
    "from skcriteria.ranksrev.transitivity_check import TransitivityChecker"
   ]
  },
  {
   "cell_type": "code",
   "execution_count": 136,
   "id": "ade84c5f-25c2-4aab-8cf4-1c1f6c2ff777",
   "metadata": {},
   "outputs": [],
   "source": [
    "# Create a decision matrix\n",
    "dm = skc.mkdm(\n",
    "    matrix=[\n",
    "        [4.57, 4.64, 62.2, 43.8, 8.49, 65.7],\n",
    "        [65.7, 67.3, 6.03, 43.8, 4.25, 9.42],\n",
    "        [20.3, 14.0, 20.2, 6.25, 58.3, 20.3],\n",
    "        [9.42, 14.0, 11.5, 6.25, 29.0, 4.57],\n",
    "    ],\n",
    "    objectives=[max, max, max, max, max, max],\n",
    "    alternatives=[\"status quo\", \"oil & ev\", \"oil & ngv\", \"methanol\"],\n",
    "    criteria=[\"supply\", \"emission\", \"tech\", \"safety\", \"cost\", \"consumer preference\"],\n",
    ")"
   ]
  },
  {
   "cell_type": "markdown",
   "id": "e4f47f87",
   "metadata": {},
   "source": [
    "To pick our best choice, we'll use a TOPSIS based method and print the resulting ranking."
   ]
  },
  {
   "cell_type": "code",
   "execution_count": 137,
   "id": "7ccaef4a-2f10-42ab-8bc5-056681066012",
   "metadata": {
    "scrolled": true
   },
   "outputs": [
    {
     "data": {
      "text/html": [
       "<div class='skcresult-rank skcresult'>\n",
       "<style type=\"text/css\">\n",
       "</style>\n",
       "<table id=\"T_0cbdc\">\n",
       "  <thead>\n",
       "    <tr>\n",
       "      <th class=\"index_name level0\" >Alternatives</th>\n",
       "      <th id=\"T_0cbdc_level0_col0\" class=\"col_heading level0 col0\" >status quo</th>\n",
       "      <th id=\"T_0cbdc_level0_col1\" class=\"col_heading level0 col1\" >oil & ev</th>\n",
       "      <th id=\"T_0cbdc_level0_col2\" class=\"col_heading level0 col2\" >oil & ngv</th>\n",
       "      <th id=\"T_0cbdc_level0_col3\" class=\"col_heading level0 col3\" >methanol</th>\n",
       "    </tr>\n",
       "  </thead>\n",
       "  <tbody>\n",
       "    <tr>\n",
       "      <th id=\"T_0cbdc_level0_row0\" class=\"row_heading level0 row0\" >Rank</th>\n",
       "      <td id=\"T_0cbdc_row0_col0\" class=\"data row0 col0\" >2</td>\n",
       "      <td id=\"T_0cbdc_row0_col1\" class=\"data row0 col1\" >1</td>\n",
       "      <td id=\"T_0cbdc_row0_col2\" class=\"data row0 col2\" >3</td>\n",
       "      <td id=\"T_0cbdc_row0_col3\" class=\"data row0 col3\" >4</td>\n",
       "    </tr>\n",
       "  </tbody>\n",
       "</table>\n",
       "<em class='skcresult-method'>Method: TOPSIS</em>\n",
       "</div>"
      ],
      "text/plain": [
       "Alternatives  status quo  oil & ev  oil & ngv  methanol\n",
       "Rank                   2         1          3         4\n",
       "[Method: TOPSIS]"
      ]
     },
     "metadata": {},
     "output_type": "display_data"
    }
   ],
   "source": [
    "# Define TOPSIS pipeline\n",
    "dmaker = mkpipe(\n",
    "    SumScaler(target=\"weights\"), \n",
    "    VectorScaler(target=\"matrix\"), \n",
    "    TOPSIS()\n",
    ")\n",
    "\n",
    "# Get original ranking\n",
    "original_result = dmaker.evaluate(dm)\n",
    "display(original_result)"
   ]
  },
  {
   "cell_type": "markdown",
   "id": "7b627ad8-eb32-49ab-be37-a2c6a3b08232",
   "metadata": {},
   "source": [
    "To verify that we made the right choice picking TOPSIS, we'll be using the `TransitivityChecker`.\n",
    "As we stated before, for this we'll need our original pipeline, but we also add two extra parameters:\n",
    "\n",
    "* `allow_missing_alternatives`: desicion maker pipelines can sometimes return rankings with fewer alternatives than the original ones (using a pipeline that implements a filter, for example), which could cause issues in some partitions. This parameter allows for missing alternatives in a ranking to be added with a value of the maximum value of the ranking obtained + 1.\n",
    "\n",
    "* `max_ranks`: limits the amount of rankings that can be constructed during the recomposition phase."
   ]
  },
  {
   "cell_type": "code",
   "execution_count": 138,
   "id": "146301d0",
   "metadata": {},
   "outputs": [],
   "source": [
    "checker = TransitivityChecker(\n",
    "    dmaker,\n",
    "    allow_missing_alternatives=True,\n",
    "    max_ranks=10\n",
    ")"
   ]
  },
  {
   "cell_type": "code",
   "execution_count": 139,
   "id": "f2e8e63f-e48f-43a2-854f-404182ed7540",
   "metadata": {},
   "outputs": [
    {
     "data": {
      "text/plain": [
       "'Transitivity Analysis Results:'"
      ]
     },
     "metadata": {},
     "output_type": "display_data"
    },
    {
     "data": {
      "text/plain": [
       "'Test Criterion 2 (Transitivity): Not Passed'"
      ]
     },
     "metadata": {},
     "output_type": "display_data"
    },
    {
     "data": {
      "text/plain": [
       "'Test Criterion 3 (Recomposition Consistency): Not Passed'"
      ]
     },
     "metadata": {},
     "output_type": "display_data"
    },
    {
     "data": {
      "text/plain": [
       "'Transitivity Break Rate: 0.5000'"
      ]
     },
     "metadata": {},
     "output_type": "display_data"
    }
   ],
   "source": [
    "results = checker.evaluate(dm=dm)\n",
    "\n",
    "display(\"Transitivity Analysis Results:\")\n",
    "display(f\"Test Criterion 2 (Transitivity): {results.e_.test_criterion_2}\")\n",
    "display(f\"Test Criterion 3 (Recomposition Consistency): {results.e_.test_criterion_3}\")\n",
    "display(f\"Transitivity Break Rate: {results.e_.transitivity_break_rate:.4f}\")"
   ]
  },
  {
   "cell_type": "markdown",
   "id": "e2e94749",
   "metadata": {},
   "source": [
    "The `TransitivityChecker` evaluation provides several key pieces of information:\n",
    "\n",
    "1. **Test Criterion 2 Result**: Indicates whether the method maintains transitivity across all pairwise comparisons\n",
    "2. **Test Criterion 3 Result**: Shows whether the recomposed ranking matches the original ranking\n",
    "3. **Transitivity Break Rate**: A normalized measure of how many transitivity violations exist relative to the theoretical maximum.\n",
    "\n",
    "Given that our pipeline failed the test, we should be able to see many different rankings of our original desicion matrix."
   ]
  },
  {
   "cell_type": "code",
   "execution_count": 140,
   "id": "c1a944ba",
   "metadata": {},
   "outputs": [
    {
     "data": {
      "text/plain": [
       "'Ranking Comparison'"
      ]
     },
     "metadata": {},
     "output_type": "display_data"
    },
    {
     "data": {
      "text/html": [
       "<div class='skcresult-rank skcresult'>\n",
       "<style type=\"text/css\">\n",
       "</style>\n",
       "<table id=\"T_bc440\">\n",
       "  <thead>\n",
       "    <tr>\n",
       "      <th class=\"index_name level0\" >Alternatives</th>\n",
       "      <th id=\"T_bc440_level0_col0\" class=\"col_heading level0 col0\" >status quo</th>\n",
       "      <th id=\"T_bc440_level0_col1\" class=\"col_heading level0 col1\" >oil & ev</th>\n",
       "      <th id=\"T_bc440_level0_col2\" class=\"col_heading level0 col2\" >oil & ngv</th>\n",
       "      <th id=\"T_bc440_level0_col3\" class=\"col_heading level0 col3\" >methanol</th>\n",
       "    </tr>\n",
       "  </thead>\n",
       "  <tbody>\n",
       "    <tr>\n",
       "      <th id=\"T_bc440_level0_row0\" class=\"row_heading level0 row0\" >Rank</th>\n",
       "      <td id=\"T_bc440_row0_col0\" class=\"data row0 col0\" >2</td>\n",
       "      <td id=\"T_bc440_row0_col1\" class=\"data row0 col1\" >1</td>\n",
       "      <td id=\"T_bc440_row0_col2\" class=\"data row0 col2\" >3</td>\n",
       "      <td id=\"T_bc440_row0_col3\" class=\"data row0 col3\" >4</td>\n",
       "    </tr>\n",
       "  </tbody>\n",
       "</table>\n",
       "<em class='skcresult-method'>Method: TOPSIS</em>\n",
       "</div>"
      ],
      "text/plain": [
       "Alternatives  status quo  oil & ev  oil & ngv  methanol\n",
       "Rank                   2         1          3         4\n",
       "[Method: TOPSIS]"
      ]
     },
     "metadata": {},
     "output_type": "display_data"
    },
    {
     "data": {
      "text/html": [
       "<div class='skcresult-rank skcresult'>\n",
       "<style type=\"text/css\">\n",
       "</style>\n",
       "<table id=\"T_3fb3f\">\n",
       "  <thead>\n",
       "    <tr>\n",
       "      <th class=\"index_name level0\" >Alternatives</th>\n",
       "      <th id=\"T_3fb3f_level0_col0\" class=\"col_heading level0 col0\" >status quo</th>\n",
       "      <th id=\"T_3fb3f_level0_col1\" class=\"col_heading level0 col1\" >oil & ev</th>\n",
       "      <th id=\"T_3fb3f_level0_col2\" class=\"col_heading level0 col2\" >oil & ngv</th>\n",
       "      <th id=\"T_3fb3f_level0_col3\" class=\"col_heading level0 col3\" >methanol</th>\n",
       "    </tr>\n",
       "  </thead>\n",
       "  <tbody>\n",
       "    <tr>\n",
       "      <th id=\"T_3fb3f_level0_row0\" class=\"row_heading level0 row0\" >Rank</th>\n",
       "      <td id=\"T_3fb3f_row0_col0\" class=\"data row0 col0\" >1</td>\n",
       "      <td id=\"T_3fb3f_row0_col1\" class=\"data row0 col1\" >2</td>\n",
       "      <td id=\"T_3fb3f_row0_col2\" class=\"data row0 col2\" >3</td>\n",
       "      <td id=\"T_3fb3f_row0_col3\" class=\"data row0 col3\" >4</td>\n",
       "    </tr>\n",
       "  </tbody>\n",
       "</table>\n",
       "<em class='skcresult-method'>Method: TOPSIS + RRT3 RECOMPOSITION_1</em>\n",
       "</div>"
      ],
      "text/plain": [
       "Alternatives  status quo  oil & ev  oil & ngv  methanol\n",
       "Rank                   1         2          3         4\n",
       "[Method: TOPSIS + RRT3 RECOMPOSITION_1]"
      ]
     },
     "metadata": {},
     "output_type": "display_data"
    },
    {
     "data": {
      "text/html": [
       "<div class='skcresult-rank skcresult'>\n",
       "<style type=\"text/css\">\n",
       "</style>\n",
       "<table id=\"T_b33e1\">\n",
       "  <thead>\n",
       "    <tr>\n",
       "      <th class=\"index_name level0\" >Alternatives</th>\n",
       "      <th id=\"T_b33e1_level0_col0\" class=\"col_heading level0 col0\" >status quo</th>\n",
       "      <th id=\"T_b33e1_level0_col1\" class=\"col_heading level0 col1\" >oil & ev</th>\n",
       "      <th id=\"T_b33e1_level0_col2\" class=\"col_heading level0 col2\" >oil & ngv</th>\n",
       "      <th id=\"T_b33e1_level0_col3\" class=\"col_heading level0 col3\" >methanol</th>\n",
       "    </tr>\n",
       "  </thead>\n",
       "  <tbody>\n",
       "    <tr>\n",
       "      <th id=\"T_b33e1_level0_row0\" class=\"row_heading level0 row0\" >Rank</th>\n",
       "      <td id=\"T_b33e1_row0_col0\" class=\"data row0 col0\" >3</td>\n",
       "      <td id=\"T_b33e1_row0_col1\" class=\"data row0 col1\" >1</td>\n",
       "      <td id=\"T_b33e1_row0_col2\" class=\"data row0 col2\" >2</td>\n",
       "      <td id=\"T_b33e1_row0_col3\" class=\"data row0 col3\" >4</td>\n",
       "    </tr>\n",
       "  </tbody>\n",
       "</table>\n",
       "<em class='skcresult-method'>Method: TOPSIS + RRT3 RECOMPOSITION_2</em>\n",
       "</div>"
      ],
      "text/plain": [
       "Alternatives  status quo  oil & ev  oil & ngv  methanol\n",
       "Rank                   3         1          2         4\n",
       "[Method: TOPSIS + RRT3 RECOMPOSITION_2]"
      ]
     },
     "metadata": {},
     "output_type": "display_data"
    },
    {
     "data": {
      "text/html": [
       "<div class='skcresult-rank skcresult'>\n",
       "<style type=\"text/css\">\n",
       "</style>\n",
       "<table id=\"T_88b37\">\n",
       "  <thead>\n",
       "    <tr>\n",
       "      <th class=\"index_name level0\" >Alternatives</th>\n",
       "      <th id=\"T_88b37_level0_col0\" class=\"col_heading level0 col0\" >status quo</th>\n",
       "      <th id=\"T_88b37_level0_col1\" class=\"col_heading level0 col1\" >oil & ev</th>\n",
       "      <th id=\"T_88b37_level0_col2\" class=\"col_heading level0 col2\" >oil & ngv</th>\n",
       "      <th id=\"T_88b37_level0_col3\" class=\"col_heading level0 col3\" >methanol</th>\n",
       "    </tr>\n",
       "  </thead>\n",
       "  <tbody>\n",
       "    <tr>\n",
       "      <th id=\"T_88b37_level0_row0\" class=\"row_heading level0 row0\" >Rank</th>\n",
       "      <td id=\"T_88b37_row0_col0\" class=\"data row0 col0\" >1</td>\n",
       "      <td id=\"T_88b37_row0_col1\" class=\"data row0 col1\" >2</td>\n",
       "      <td id=\"T_88b37_row0_col2\" class=\"data row0 col2\" >3</td>\n",
       "      <td id=\"T_88b37_row0_col3\" class=\"data row0 col3\" >4</td>\n",
       "    </tr>\n",
       "  </tbody>\n",
       "</table>\n",
       "<em class='skcresult-method'>Method: TOPSIS + RRT3 RECOMPOSITION_3</em>\n",
       "</div>"
      ],
      "text/plain": [
       "Alternatives  status quo  oil & ev  oil & ngv  methanol\n",
       "Rank                   1         2          3         4\n",
       "[Method: TOPSIS + RRT3 RECOMPOSITION_3]"
      ]
     },
     "metadata": {},
     "output_type": "display_data"
    }
   ],
   "source": [
    "display(\"Ranking Comparison\")\n",
    "\n",
    "items = list(results.named_ranks.items())\n",
    "for rank_name, ranking in items[:4]:\n",
    "    display(ranking)"
   ]
  },
  {
   "cell_type": "markdown",
   "id": "9a9b0341",
   "metadata": {},
   "source": [
    "### Example that passes both tests\n",
    "\n",
    "This example uses a simple stock selection decision matrix and applies a TOPSIS-based MCDA pipeline.\n",
    "The pipeline includes preprocessing steps such as inverting objectives (for maximization) and filtering non-dominated alternatives.\n",
    "\n",
    "We then check whether the resulting rankings satisfy the transitivity and recomposition consistency properties, in such case, Both criteria should return True, and the transitivity break rate should be 0, indicating robust decision-making consistency."
   ]
  },
  {
   "cell_type": "code",
   "execution_count": 141,
   "id": "cad94a12",
   "metadata": {},
   "outputs": [
    {
     "data": {
      "text/html": [
       "<div class='skcresult-rank skcresult'>\n",
       "<style type=\"text/css\">\n",
       "</style>\n",
       "<table id=\"T_d0640\">\n",
       "  <thead>\n",
       "    <tr>\n",
       "      <th class=\"index_name level0\" >Alternatives</th>\n",
       "      <th id=\"T_d0640_level0_col0\" class=\"col_heading level0 col0\" >PE</th>\n",
       "      <th id=\"T_d0640_level0_col1\" class=\"col_heading level0 col1\" >JN</th>\n",
       "      <th id=\"T_d0640_level0_col2\" class=\"col_heading level0 col2\" >AA</th>\n",
       "      <th id=\"T_d0640_level0_col3\" class=\"col_heading level0 col3\" >GN</th>\n",
       "    </tr>\n",
       "  </thead>\n",
       "  <tbody>\n",
       "    <tr>\n",
       "      <th id=\"T_d0640_level0_row0\" class=\"row_heading level0 row0\" >Rank</th>\n",
       "      <td id=\"T_d0640_row0_col0\" class=\"data row0 col0\" >3</td>\n",
       "      <td id=\"T_d0640_row0_col1\" class=\"data row0 col1\" >4</td>\n",
       "      <td id=\"T_d0640_row0_col2\" class=\"data row0 col2\" >2</td>\n",
       "      <td id=\"T_d0640_row0_col3\" class=\"data row0 col3\" >1</td>\n",
       "    </tr>\n",
       "  </tbody>\n",
       "</table>\n",
       "<em class='skcresult-method'>Method: TOPSIS</em>\n",
       "</div>"
      ],
      "text/plain": [
       "Alternatives  PE  JN  AA  GN\n",
       "Rank           3   4   2   1\n",
       "[Method: TOPSIS]"
      ]
     },
     "metadata": {},
     "output_type": "display_data"
    },
    {
     "data": {
      "text/html": [
       "<div class='skcresult-rank skcresult'>\n",
       "<style type=\"text/css\">\n",
       "</style>\n",
       "<table id=\"T_18b06\">\n",
       "  <thead>\n",
       "    <tr>\n",
       "      <th class=\"index_name level0\" >Alternatives</th>\n",
       "      <th id=\"T_18b06_level0_col0\" class=\"col_heading level0 col0\" >PE</th>\n",
       "      <th id=\"T_18b06_level0_col1\" class=\"col_heading level0 col1\" >JN</th>\n",
       "      <th id=\"T_18b06_level0_col2\" class=\"col_heading level0 col2\" >AA</th>\n",
       "      <th id=\"T_18b06_level0_col3\" class=\"col_heading level0 col3\" >GN</th>\n",
       "      <th id=\"T_18b06_level0_col4\" class=\"col_heading level0 col4\" >FX</th>\n",
       "      <th id=\"T_18b06_level0_col5\" class=\"col_heading level0 col5\" >MM</th>\n",
       "    </tr>\n",
       "  </thead>\n",
       "  <tbody>\n",
       "    <tr>\n",
       "      <th id=\"T_18b06_level0_row0\" class=\"row_heading level0 row0\" >Rank</th>\n",
       "      <td id=\"T_18b06_row0_col0\" class=\"data row0 col0\" >3</td>\n",
       "      <td id=\"T_18b06_row0_col1\" class=\"data row0 col1\" >4</td>\n",
       "      <td id=\"T_18b06_row0_col2\" class=\"data row0 col2\" >2</td>\n",
       "      <td id=\"T_18b06_row0_col3\" class=\"data row0 col3\" >1</td>\n",
       "      <td id=\"T_18b06_row0_col4\" class=\"data row0 col4\" >5</td>\n",
       "      <td id=\"T_18b06_row0_col5\" class=\"data row0 col5\" >5</td>\n",
       "    </tr>\n",
       "  </tbody>\n",
       "</table>\n",
       "<em class='skcresult-method'>Method: TOPSIS</em>\n",
       "</div>"
      ],
      "text/plain": [
       "Alternatives PE JN AA GN FX MM\n",
       "Rank          3  4  2  1  5  5\n",
       "[Method: TOPSIS]"
      ]
     },
     "metadata": {},
     "output_type": "display_data"
    },
    {
     "data": {
      "text/html": [
       "<div class='skcresult-rank skcresult'>\n",
       "<style type=\"text/css\">\n",
       "</style>\n",
       "<table id=\"T_72424\">\n",
       "  <thead>\n",
       "    <tr>\n",
       "      <th class=\"index_name level0\" >Alternatives</th>\n",
       "      <th id=\"T_72424_level0_col0\" class=\"col_heading level0 col0\" >PE</th>\n",
       "      <th id=\"T_72424_level0_col1\" class=\"col_heading level0 col1\" >JN</th>\n",
       "      <th id=\"T_72424_level0_col2\" class=\"col_heading level0 col2\" >AA</th>\n",
       "      <th id=\"T_72424_level0_col3\" class=\"col_heading level0 col3\" >GN</th>\n",
       "      <th id=\"T_72424_level0_col4\" class=\"col_heading level0 col4\" >FX</th>\n",
       "      <th id=\"T_72424_level0_col5\" class=\"col_heading level0 col5\" >MM</th>\n",
       "    </tr>\n",
       "  </thead>\n",
       "  <tbody>\n",
       "    <tr>\n",
       "      <th id=\"T_72424_level0_row0\" class=\"row_heading level0 row0\" >Rank</th>\n",
       "      <td id=\"T_72424_row0_col0\" class=\"data row0 col0\" >3</td>\n",
       "      <td id=\"T_72424_row0_col1\" class=\"data row0 col1\" >4</td>\n",
       "      <td id=\"T_72424_row0_col2\" class=\"data row0 col2\" >2</td>\n",
       "      <td id=\"T_72424_row0_col3\" class=\"data row0 col3\" >1</td>\n",
       "      <td id=\"T_72424_row0_col4\" class=\"data row0 col4\" >5</td>\n",
       "      <td id=\"T_72424_row0_col5\" class=\"data row0 col5\" >5</td>\n",
       "    </tr>\n",
       "  </tbody>\n",
       "</table>\n",
       "<em class='skcresult-method'>Method: TOPSIS + RRT3 RECOMPOSITION_1</em>\n",
       "</div>"
      ],
      "text/plain": [
       "Alternatives PE JN AA GN FX MM\n",
       "Rank          3  4  2  1  5  5\n",
       "[Method: TOPSIS + RRT3 RECOMPOSITION_1]"
      ]
     },
     "metadata": {},
     "output_type": "display_data"
    },
    {
     "data": {
      "text/plain": [
       "'Transitivity Analysis Results:'"
      ]
     },
     "metadata": {},
     "output_type": "display_data"
    },
    {
     "data": {
      "text/plain": [
       "'Test Criterion 2 (Transitivity): Passed'"
      ]
     },
     "metadata": {},
     "output_type": "display_data"
    },
    {
     "data": {
      "text/plain": [
       "'Test Criterion 3 (Recomposition Consistency): Passed'"
      ]
     },
     "metadata": {},
     "output_type": "display_data"
    },
    {
     "data": {
      "text/plain": [
       "'Transitivity Break Rate: 0.0000'"
      ]
     },
     "metadata": {},
     "output_type": "display_data"
    }
   ],
   "source": [
    "# Create a decision matrix for energy alternatives\n",
    "dm = skc.datasets.load_simple_stock_selection()\n",
    "\n",
    "# Define TOPSIS pipeline\n",
    "dmaker = mkpipe(InvertMinimize(), FilterNonDominated(), TOPSIS())\n",
    "\n",
    "# Get original ranking\n",
    "original_result = dmaker.evaluate(dm)\n",
    "display(original_result)\n",
    "\n",
    "# Create the transitivity checker\n",
    "checker = TransitivityChecker(\n",
    "    dmaker, allow_missing_alternatives=True, max_ranks=1000\n",
    ")\n",
    "\n",
    "# Run the transitivity evaluation\n",
    "results = checker.evaluate(dm=dm)\n",
    "display(results[\"Original\"])\n",
    "display(results[\"Recomposition1\"])\n",
    "\n",
    "display(\"Transitivity Analysis Results:\")\n",
    "display(f\"Test Criterion 2 (Transitivity): {results.e_.test_criterion_2}\")\n",
    "display(\n",
    "    f\"Test Criterion 3 (Recomposition Consistency): {results.e_.test_criterion_3}\"\n",
    ")\n",
    "display(f\"Transitivity Break Rate: {results.e_.transitivity_break_rate:.4f}\")"
   ]
  },
  {
   "cell_type": "markdown",
   "id": "c533a0ca",
   "metadata": {},
   "source": [
    "The plot below shows the ranking results for each alternative, with confidence intervals indicating the stability of rankings across different evaluation scenarios. The dashed line connects the mean ranks to visualize potential transitivity issues in the decision matrix."
   ]
  },
  {
   "cell_type": "code",
   "execution_count": 142,
   "id": "ab31d68f",
   "metadata": {},
   "outputs": [
    {
     "data": {
      "image/png": "[encoded data removed]",
      "text/plain": [
       "<Figure size 640x480 with 1 Axes>"
      ]
     },
     "metadata": {},
     "output_type": "display_data"
    }
   ],
   "source": [
    "import matplotlib.pyplot as plt\n",
    "\n",
    "ax = results.plot()\n",
    "ax.plot(\n",
    "    results[0],\n",
    "    marker=\"o\",\n",
    "    linestyle=\"--\",\n",
    "    color=\"orange\",\n",
    "    label=\"Original results\",\n",
    "    zorder=3,\n",
    ")\n",
    "ax.legend()\n",
    "plt.tight_layout()"
   ]
  },
  {
   "cell_type": "markdown",
   "id": "ce7049b5-35cf-4db5-a3c5-2aa7728dea49",
   "metadata": {},
   "source": [
    "### Untying and Recomposition strategies"
   ]
  },
  {
   "cell_type": "markdown",
   "id": "5799ac96",
   "metadata": {},
   "source": [
    "When transitivity violations are detected in the dominance graph (i.e., cycles), the algorithm applies cycle-breaking strategies to restore consistency and generate valid rankings.\n",
    "\n",
    "The strategy used is controlled via the `make_transitive_strategy` parameter:\n",
    "- `random` (default): removes edges uniformly at random from cycles.\n",
    "- `weighted`: removes edges with higher participation in cycles (based on frequency), prioritizing structurally disruptive edges.\n",
    "Custom strategies can also be provided as callables: `func(cycle, edge_freq, rng) → edge_tuple`.\n",
    "\n",
    "Multiple acyclic graphs may be generated depending on the number of cycle-breaking configurations (`max_ranks`), each yielding a potentially different recomposed ranking.\n",
    "\n",
    "Ties during pairwise evaluation are resolved through dominance analysis: if one alternative dominates the other in more criteria, it's considered superior even if the scores are tied."
   ]
  },
  {
   "cell_type": "markdown",
   "id": "c219f17f",
   "metadata": {},
   "source": [
    "To illustrate these strategies in practice, we revisit the decision matrix used in the *Example failing both test cases* section.\n",
    "We apply the `TransitivityChecker` to the original TOPSIS ranking and generate alternative rankings using two different cycle-breaking strategies: `random` and `weighted`.\n",
    "\n",
    "This example shows how different strategies for restoring transitivity can affect the final ranking, even when based on the same input data."
   ]
  },
  {
   "cell_type": "code",
   "execution_count": 143,
   "id": "7e5affd9",
   "metadata": {},
   "outputs": [],
   "source": [
    "# Create a decision matrix\n",
    "dm = skc.mkdm(\n",
    "    matrix=[\n",
    "        [4.57, 4.64, 62.2, 43.8, 8.49, 65.7],\n",
    "        [65.7, 67.3, 6.03, 43.8, 4.25, 9.42],\n",
    "        [20.3, 14.0, 20.2, 6.25, 58.3, 20.3],\n",
    "        [9.42, 14.0, 11.5, 6.25, 29.0, 4.57],\n",
    "    ],\n",
    "    objectives=[max, max, max, max, max, max],\n",
    "    alternatives=[\"status quo\", \"oil & ev\", \"oil & ngv\", \"methanol\"],\n",
    "    criteria=[\"supply\", \"emission\", \"tech\", \"safety\", \"cost\", \"consumer preference\"\n",
    "    ],\n",
    ")\n",
    "\n",
    "# Define TOPSIS pipeline\n",
    "dmaker = mkpipe(\n",
    "    SumScaler(target=\"weights\"), VectorScaler(target=\"matrix\"), TOPSIS()\n",
    ")\n",
    "original_result = dmaker.evaluate(dm)"
   ]
  },
  {
   "cell_type": "code",
   "execution_count": 144,
   "id": "e428cdcd-c574-4729-8ace-903781f2b79d",
   "metadata": {},
   "outputs": [
    {
     "data": {
      "text/html": [
       "<div class='skcresult-rank skcresult'>\n",
       "<style type=\"text/css\">\n",
       "</style>\n",
       "<table id=\"T_185d1\">\n",
       "  <thead>\n",
       "    <tr>\n",
       "      <th class=\"index_name level0\" >Alternatives</th>\n",
       "      <th id=\"T_185d1_level0_col0\" class=\"col_heading level0 col0\" >status quo</th>\n",
       "      <th id=\"T_185d1_level0_col1\" class=\"col_heading level0 col1\" >oil & ev</th>\n",
       "      <th id=\"T_185d1_level0_col2\" class=\"col_heading level0 col2\" >oil & ngv</th>\n",
       "      <th id=\"T_185d1_level0_col3\" class=\"col_heading level0 col3\" >methanol</th>\n",
       "    </tr>\n",
       "  </thead>\n",
       "  <tbody>\n",
       "    <tr>\n",
       "      <th id=\"T_185d1_level0_row0\" class=\"row_heading level0 row0\" >Rank</th>\n",
       "      <td id=\"T_185d1_row0_col0\" class=\"data row0 col0\" >2</td>\n",
       "      <td id=\"T_185d1_row0_col1\" class=\"data row0 col1\" >1</td>\n",
       "      <td id=\"T_185d1_row0_col2\" class=\"data row0 col2\" >3</td>\n",
       "      <td id=\"T_185d1_row0_col3\" class=\"data row0 col3\" >4</td>\n",
       "    </tr>\n",
       "  </tbody>\n",
       "</table>\n",
       "<em class='skcresult-method'>Method: TOPSIS</em>\n",
       "</div>"
      ],
      "text/plain": [
       "Alternatives  status quo  oil & ev  oil & ngv  methanol\n",
       "Rank                   2         1          3         4\n",
       "[Method: TOPSIS]"
      ]
     },
     "metadata": {},
     "output_type": "display_data"
    },
    {
     "data": {
      "text/html": [
       "<div class='skcresult-rank skcresult'>\n",
       "<style type=\"text/css\">\n",
       "</style>\n",
       "<table id=\"T_c7194\">\n",
       "  <thead>\n",
       "    <tr>\n",
       "      <th class=\"index_name level0\" >Alternatives</th>\n",
       "      <th id=\"T_c7194_level0_col0\" class=\"col_heading level0 col0\" >status quo</th>\n",
       "      <th id=\"T_c7194_level0_col1\" class=\"col_heading level0 col1\" >oil & ev</th>\n",
       "      <th id=\"T_c7194_level0_col2\" class=\"col_heading level0 col2\" >oil & ngv</th>\n",
       "      <th id=\"T_c7194_level0_col3\" class=\"col_heading level0 col3\" >methanol</th>\n",
       "    </tr>\n",
       "  </thead>\n",
       "  <tbody>\n",
       "    <tr>\n",
       "      <th id=\"T_c7194_level0_row0\" class=\"row_heading level0 row0\" >Rank</th>\n",
       "      <td id=\"T_c7194_row0_col0\" class=\"data row0 col0\" >1</td>\n",
       "      <td id=\"T_c7194_row0_col1\" class=\"data row0 col1\" >2</td>\n",
       "      <td id=\"T_c7194_row0_col2\" class=\"data row0 col2\" >3</td>\n",
       "      <td id=\"T_c7194_row0_col3\" class=\"data row0 col3\" >4</td>\n",
       "    </tr>\n",
       "  </tbody>\n",
       "</table>\n",
       "<em class='skcresult-method'>Method: TOPSIS + RRT3 RECOMPOSITION_1</em>\n",
       "</div>"
      ],
      "text/plain": [
       "Alternatives  status quo  oil & ev  oil & ngv  methanol\n",
       "Rank                   1         2          3         4\n",
       "[Method: TOPSIS + RRT3 RECOMPOSITION_1]"
      ]
     },
     "metadata": {},
     "output_type": "display_data"
    },
    {
     "data": {
      "text/html": [
       "<div class='skcresult-rank skcresult'>\n",
       "<style type=\"text/css\">\n",
       "</style>\n",
       "<table id=\"T_2cdbd\">\n",
       "  <thead>\n",
       "    <tr>\n",
       "      <th class=\"index_name level0\" >Alternatives</th>\n",
       "      <th id=\"T_2cdbd_level0_col0\" class=\"col_heading level0 col0\" >status quo</th>\n",
       "      <th id=\"T_2cdbd_level0_col1\" class=\"col_heading level0 col1\" >oil & ev</th>\n",
       "      <th id=\"T_2cdbd_level0_col2\" class=\"col_heading level0 col2\" >oil & ngv</th>\n",
       "      <th id=\"T_2cdbd_level0_col3\" class=\"col_heading level0 col3\" >methanol</th>\n",
       "    </tr>\n",
       "  </thead>\n",
       "  <tbody>\n",
       "    <tr>\n",
       "      <th id=\"T_2cdbd_level0_row0\" class=\"row_heading level0 row0\" >Rank</th>\n",
       "      <td id=\"T_2cdbd_row0_col0\" class=\"data row0 col0\" >1</td>\n",
       "      <td id=\"T_2cdbd_row0_col1\" class=\"data row0 col1\" >2</td>\n",
       "      <td id=\"T_2cdbd_row0_col2\" class=\"data row0 col2\" >3</td>\n",
       "      <td id=\"T_2cdbd_row0_col3\" class=\"data row0 col3\" >4</td>\n",
       "    </tr>\n",
       "  </tbody>\n",
       "</table>\n",
       "<em class='skcresult-method'>Method: TOPSIS + RRT3 RECOMPOSITION_1</em>\n",
       "</div>"
      ],
      "text/plain": [
       "Alternatives  status quo  oil & ev  oil & ngv  methanol\n",
       "Rank                   1         2          3         4\n",
       "[Method: TOPSIS + RRT3 RECOMPOSITION_1]"
      ]
     },
     "metadata": {},
     "output_type": "display_data"
    }
   ],
   "source": [
    "# Recomposition using different cycle-breaking strategies\n",
    "\n",
    "# Use the default strategy (random)\n",
    "checker_random = TransitivityChecker(\n",
    "    dmaker,\n",
    "    make_transitive_strategy=\"random\",\n",
    "    max_ranks=1\n",
    ")\n",
    "res_random = checker_random.evaluate(dm=dm)\n",
    "\n",
    "# Use the 'weighted' strategy\n",
    "checker_weighted = TransitivityChecker(\n",
    "    dmaker,\n",
    "    make_transitive_strategy=\"weighted\",\n",
    "    max_ranks=1\n",
    ")\n",
    "res_weighted = checker_weighted.evaluate(dm=dm)\n",
    "\n",
    "# Access recomposed rankings\n",
    "rrandom = res_random[\"Recomposition1\"]\n",
    "rweighted = res_weighted[\"Recomposition1\"]\n",
    "\n",
    "display(original_result, rrandom, rweighted)"
   ]
  },
  {
   "cell_type": "markdown",
   "id": "62c09868-356c-4d3c-80c0-cca063083b7e",
   "metadata": {},
   "source": [
    "## References\n",
    "\n",
    "- Wang & Triantaphyllou (2006). Ranking Irregularities When Evaluating Alternatives by Using Some Multi- Criteria Decision Analysis Methods.\n",
    "- Poh & Ang (1999). Transportation fuels and policy for Singapore: an AHP planning approach."
   ]
  }
 ],
 "metadata": {
  "kernelspec": {
   "display_name": "scikit",
   "language": "python",
   "name": "scikit"
  },
  "language_info": {
   "codemirror_mode": {
    "name": "ipython",
    "version": 3
   },
   "file_extension": ".py",
   "mimetype": "text/x-python",
   "name": "python",
   "nbconvert_exporter": "python",
   "pygments_lexer": "ipython3",
   "version": "3.12.3"
  }
 },
 "nbformat": 4,
 "nbformat_minor": 5
}
