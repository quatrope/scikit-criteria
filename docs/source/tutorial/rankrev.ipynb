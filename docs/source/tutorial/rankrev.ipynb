{
 "cells": [
  {
   "cell_type": "markdown",
   "id": "453eceaa-8159-4a7e-85dd-0562d6bb98c7",
   "metadata": {},
   "source": [
    "# Rank reversals\n",
    "\n",
    "This tutorial provides an overview of the use of the scikit-criteria ranking comparison tools.\n",
    "\n",
    "## Context and motivation\n",
    "\n",
    "Multi-criteria decision methods may present irregularities in their rankings that compromise the reliability of their results.\n",
    "Depending on how the alternatives are defined and evaluated in a problem, rank reversals are classified in five types.\n",
    "To evaluate the robustness of these methods, :cite:p:`wang2006ranking` proposed three test criteria that cover all five kinds of rank reversals.\n",
    "\n",
    "1. **Rank invariance**: The rank of an optimal alternative must remain invariant when a sub-optimal alternative is worsened.\n",
    "2. **Transitivity**: when a decision problem is partitioned in smaller sub-problems, the relative transitivity of alternatives must be retained.\n",
    "2. **Recomposition consistency**: a new ranking constructed from a set of smaller sub-problems must be equivalent to the ranking obtained from running the original method."
   ]
  },
  {
   "cell_type": "markdown",
   "id": "d8ef800d-3778-4d70-9c67-75d443e8a577",
   "metadata": {},
   "source": [
    "## Rank inversion checks in scikit-criteria\n",
    "\n",
    "In scikit-criteria we implement these checks via the classes `RankInvariantChecker` and `TransitivityChecker`, which are available in the `skcriteria.ranksrev` module.\n",
    "\n",
    "The following sections will specify how these classes can be used to test for rank reversals and to analyze the results they yield."
   ]
  },
  {
   "cell_type": "markdown",
   "id": "46ce5423-e36a-412c-9f23-8236f9ad03f2",
   "metadata": {},
   "source": [
    "## Test criterion 1 - Rank Invariance\n",
    "\n",
    "Test criterion 1 evaluates the stability of an MCDM method's top-ranked alternative under minor degradations of non-optimal alternatives, which roughly attempts to detect rank reversals due to irrelevant changes.\n",
    "\n",
    "In its most basic form, the `RankInvariantChecker` works by worsening each sub-optimal alternative by a chosen amount `repeat` times, and stores every result in a `RanksComparator`."
   ]
  },
  {
   "cell_type": "markdown",
   "id": "1954a03e-2c13-4ac6-9d38-6e553113d9da",
   "metadata": {},
   "source": [
    "### Experiment setup (TODO: make this a propper example)"
   ]
  },
  {
   "cell_type": "code",
   "execution_count": null,
   "id": "169e6611-f695-4f3e-af8f-22e13a6faeb8",
   "metadata": {},
   "outputs": [],
   "source": [
    "import skcriteria as skc\n",
    "from skcriteria.pipeline import mkpipe\n",
    "from skcriteria.preprocessing.invert_objectives import InvertMinimize\n",
    "from skcriteria.preprocessing.scalers import SumScaler, VectorScaler\n",
    "from skcriteria.preprocessing.filters import FilterNonDominated\n",
    "from skcriteria.agg.simple import WeightedSumModel\n",
    "\n",
    "method = mkpipe(\n",
    "    InvertMinimize(),\n",
    "    FilterNonDominated(),\n",
    "    SumScaler(target=\"weights\"),\n",
    "    VectorScaler(target=\"matrix\"),\n",
    "    WeightedSumModel(),\n",
    ")\n",
    "\n",
    "# Load Van 2021 Evaluation Dataset of cryptocurrencies\n",
    "dm = skc.datasets.load_van2021evaluation(windows_size=7)"
   ]
  },
  {
   "cell_type": "code",
   "execution_count": null,
   "id": "47185a26-552c-4b46-ad2f-d43ccc2b8b67",
   "metadata": {},
   "outputs": [],
   "source": [
    "from skcriteria.ranksrev import RankInvariantChecker\n",
    "\n",
    "checker1 = RankInvariantChecker(dmaker=method, repeat=10, random_state=42)\n",
    "# results1 = checker1.evaluate(dm)"
   ]
  },
  {
   "cell_type": "markdown",
   "id": "3b5559ec-653b-4b82-afe4-5e97f7758ee1",
   "metadata": {},
   "source": [
    "## Test criterions 2 & 3 - Transitivity and Recomposition Consistency\n",
    "\n",
    "Test criterions 2 and 3 are closely connected in their goal of evaluating the internal consistency and robustness MCDMs via problem decomposition.\n",
    "The former ensures that transitivity holds across pairwise comparisons, that is, if alternative $A_1 \\succ A_2$, and $A_2 \\succ A_3$, then $A_1 \\succ A_3$; and the latter builds up a total ordering out of these relationships to recompose them into a complete global ranking to test against the original ranking.\n",
    "\n",
    "Because of this similarity, we opted to unify both criteria into a single class `TransitivityChecker`, that runs both tests secuentially and yields all the relevant details that were encountered in the process.\n",
    "\n",
    "In the following sections we'll be showing examples using variants of ELECTRE MCDMs because of their strong tendencies to fail these criteria due to how they're implemented."
   ]
  },
  {
   "cell_type": "markdown",
   "id": "a8b6093a-52bf-4c09-8b43-67cf2b44f4c6",
   "metadata": {},
   "source": [
    "### Basic experiment"
   ]
  },
  {
   "cell_type": "code",
   "execution_count": 4,
   "id": "7d7fd0fb-4da1-4800-81f8-ec2b6c020ec8",
   "metadata": {},
   "outputs": [],
   "source": [
    "import skcriteria as skc\n",
    "from skcriteria.pipeline import mkpipe\n",
    "from skcriteria.preprocessing.invert_objectives import InvertMinimize\n",
    "from skcriteria.preprocessing.filters import FilterNonDominated\n",
    "from skcriteria.preprocessing.scalers import SumScaler, VectorScaler\n",
    "from skcriteria.agg.electre import ELECTRE2\n",
    "from skcriteria.ranksrev.transitivity_check import TransitivityChecker\n",
    "\n",
    "# silence ELECTRE2 deprecation warnings\n",
    "import warnings\n",
    "with warnings.catch_warnings():\n",
    "    warnings.simplefilter('ignore')"
   ]
  },
  {
   "cell_type": "code",
   "execution_count": 5,
   "id": "ade84c5f-25c2-4aab-8cf4-1c1f6c2ff777",
   "metadata": {},
   "outputs": [
    {
     "name": "stderr",
     "output_type": "stream",
     "text": [
      "/tmp/ipykernel_16616/1266427144.py:7: SKCriteriaFutureWarning: Call to deprecated class ELECTRE2. (ELECTRE2 implementation will change in version after 0.8) -- Deprecated since version 0.8.\n",
      "  ELECTRE2(),\n"
     ]
    }
   ],
   "source": [
    "# define MCDM method pipeline\n",
    "ws_pipe = mkpipe(\n",
    "    InvertMinimize(),\n",
    "    FilterNonDominated(),\n",
    "    SumScaler(target=\"weights\"),\n",
    "    VectorScaler(target=\"matrix\"),\n",
    "    ELECTRE2(),\n",
    ")\n",
    "\n",
    "# Load Van 2021 Evaluation Dataset of cryptocurrencies\n",
    "dm = skc.datasets.load_van2021evaluation(windows_size=7)"
   ]
  },
  {
   "cell_type": "code",
   "execution_count": 6,
   "id": "7ccaef4a-2f10-42ab-8bc5-056681066012",
   "metadata": {
    "scrolled": true
   },
   "outputs": [
    {
     "name": "stderr",
     "output_type": "stream",
     "text": [
      "/home/alvaro/Documents/phd/TADS/scikit-criteria/skcriteria/agg/electre.py:448: SKCriteriaFutureWarning: Call to deprecated function (or staticmethod) electre2. (electre2 implementation will change in version after 0.8) -- Deprecated since version 0.8.\n",
      "  ) = electre2(\n",
      "/home/alvaro/Documents/phd/TADS/scikit-criteria/skcriteria/agg/electre.py:448: SKCriteriaFutureWarning: Call to deprecated function (or staticmethod) electre2. (electre2 implementation will change in version after 0.8) -- Deprecated since version 0.8.\n",
      "  ) = electre2(\n",
      "/home/alvaro/Documents/phd/TADS/scikit-criteria/skcriteria/agg/electre.py:448: SKCriteriaFutureWarning: Call to deprecated function (or staticmethod) electre2. (electre2 implementation will change in version after 0.8) -- Deprecated since version 0.8.\n",
      "  ) = electre2(\n",
      "/home/alvaro/Documents/phd/TADS/scikit-criteria/skcriteria/agg/electre.py:448: SKCriteriaFutureWarning: Call to deprecated function (or staticmethod) electre2. (electre2 implementation will change in version after 0.8) -- Deprecated since version 0.8.\n",
      "  ) = electre2(\n",
      "/home/alvaro/Documents/phd/TADS/scikit-criteria/skcriteria/agg/electre.py:448: SKCriteriaFutureWarning: Call to deprecated function (or staticmethod) electre2. (electre2 implementation will change in version after 0.8) -- Deprecated since version 0.8.\n",
      "  ) = electre2(\n",
      "/home/alvaro/Documents/phd/TADS/scikit-criteria/skcriteria/agg/electre.py:448: SKCriteriaFutureWarning: Call to deprecated function (or staticmethod) electre2. (electre2 implementation will change in version after 0.8) -- Deprecated since version 0.8.\n",
      "  ) = electre2(\n",
      "/home/alvaro/Documents/phd/TADS/scikit-criteria/skcriteria/agg/electre.py:448: SKCriteriaFutureWarning: Call to deprecated function (or staticmethod) electre2. (electre2 implementation will change in version after 0.8) -- Deprecated since version 0.8.\n",
      "  ) = electre2(\n",
      "/home/alvaro/Documents/phd/TADS/scikit-criteria/skcriteria/agg/electre.py:448: SKCriteriaFutureWarning: Call to deprecated function (or staticmethod) electre2. (electre2 implementation will change in version after 0.8) -- Deprecated since version 0.8.\n",
      "  ) = electre2(\n",
      "/home/alvaro/Documents/phd/TADS/scikit-criteria/skcriteria/agg/electre.py:448: SKCriteriaFutureWarning: Call to deprecated function (or staticmethod) electre2. (electre2 implementation will change in version after 0.8) -- Deprecated since version 0.8.\n",
      "  ) = electre2(\n",
      "/home/alvaro/Documents/phd/TADS/scikit-criteria/skcriteria/agg/electre.py:448: SKCriteriaFutureWarning: Call to deprecated function (or staticmethod) electre2. (electre2 implementation will change in version after 0.8) -- Deprecated since version 0.8.\n",
      "  ) = electre2(\n",
      "/home/alvaro/Documents/phd/TADS/scikit-criteria/skcriteria/agg/electre.py:448: SKCriteriaFutureWarning: Call to deprecated function (or staticmethod) electre2. (electre2 implementation will change in version after 0.8) -- Deprecated since version 0.8.\n",
      "  ) = electre2(\n",
      "/home/alvaro/Documents/phd/TADS/scikit-criteria/skcriteria/agg/electre.py:448: SKCriteriaFutureWarning: Call to deprecated function (or staticmethod) electre2. (electre2 implementation will change in version after 0.8) -- Deprecated since version 0.8.\n",
      "  ) = electre2(\n",
      "/home/alvaro/Documents/phd/TADS/scikit-criteria/skcriteria/agg/electre.py:448: SKCriteriaFutureWarning: Call to deprecated function (or staticmethod) electre2. (electre2 implementation will change in version after 0.8) -- Deprecated since version 0.8.\n",
      "  ) = electre2(\n",
      "/home/alvaro/Documents/phd/TADS/scikit-criteria/skcriteria/agg/electre.py:448: SKCriteriaFutureWarning: Call to deprecated function (or staticmethod) electre2. (electre2 implementation will change in version after 0.8) -- Deprecated since version 0.8.\n",
      "  ) = electre2(\n",
      "/home/alvaro/Documents/phd/TADS/scikit-criteria/skcriteria/agg/electre.py:448: SKCriteriaFutureWarning: Call to deprecated function (or staticmethod) electre2. (electre2 implementation will change in version after 0.8) -- Deprecated since version 0.8.\n",
      "  ) = electre2(\n",
      "/home/alvaro/Documents/phd/TADS/scikit-criteria/skcriteria/agg/electre.py:448: SKCriteriaFutureWarning: Call to deprecated function (or staticmethod) electre2. (electre2 implementation will change in version after 0.8) -- Deprecated since version 0.8.\n",
      "  ) = electre2(\n",
      "/home/alvaro/Documents/phd/TADS/scikit-criteria/skcriteria/agg/electre.py:448: SKCriteriaFutureWarning: Call to deprecated function (or staticmethod) electre2. (electre2 implementation will change in version after 0.8) -- Deprecated since version 0.8.\n",
      "  ) = electre2(\n",
      "/home/alvaro/Documents/phd/TADS/scikit-criteria/skcriteria/agg/electre.py:448: SKCriteriaFutureWarning: Call to deprecated function (or staticmethod) electre2. (electre2 implementation will change in version after 0.8) -- Deprecated since version 0.8.\n",
      "  ) = electre2(\n",
      "/home/alvaro/Documents/phd/TADS/scikit-criteria/skcriteria/agg/electre.py:448: SKCriteriaFutureWarning: Call to deprecated function (or staticmethod) electre2. (electre2 implementation will change in version after 0.8) -- Deprecated since version 0.8.\n",
      "  ) = electre2(\n",
      "/home/alvaro/Documents/phd/TADS/scikit-criteria/skcriteria/agg/electre.py:448: SKCriteriaFutureWarning: Call to deprecated function (or staticmethod) electre2. (electre2 implementation will change in version after 0.8) -- Deprecated since version 0.8.\n",
      "  ) = electre2(\n",
      "/home/alvaro/Documents/phd/TADS/scikit-criteria/skcriteria/agg/electre.py:448: SKCriteriaFutureWarning: Call to deprecated function (or staticmethod) electre2. (electre2 implementation will change in version after 0.8) -- Deprecated since version 0.8.\n",
      "  ) = electre2(\n",
      "/home/alvaro/Documents/phd/TADS/scikit-criteria/skcriteria/agg/electre.py:448: SKCriteriaFutureWarning: Call to deprecated function (or staticmethod) electre2. (electre2 implementation will change in version after 0.8) -- Deprecated since version 0.8.\n",
      "  ) = electre2(\n",
      "/home/alvaro/Documents/phd/TADS/scikit-criteria/skcriteria/agg/electre.py:448: SKCriteriaFutureWarning: Call to deprecated function (or staticmethod) electre2. (electre2 implementation will change in version after 0.8) -- Deprecated since version 0.8.\n",
      "  ) = electre2(\n",
      "/home/alvaro/Documents/phd/TADS/scikit-criteria/skcriteria/agg/electre.py:448: SKCriteriaFutureWarning: Call to deprecated function (or staticmethod) electre2. (electre2 implementation will change in version after 0.8) -- Deprecated since version 0.8.\n",
      "  ) = electre2(\n",
      "/home/alvaro/Documents/phd/TADS/scikit-criteria/skcriteria/agg/electre.py:448: SKCriteriaFutureWarning: Call to deprecated function (or staticmethod) electre2. (electre2 implementation will change in version after 0.8) -- Deprecated since version 0.8.\n",
      "  ) = electre2(\n",
      "/home/alvaro/Documents/phd/TADS/scikit-criteria/skcriteria/agg/electre.py:448: SKCriteriaFutureWarning: Call to deprecated function (or staticmethod) electre2. (electre2 implementation will change in version after 0.8) -- Deprecated since version 0.8.\n",
      "  ) = electre2(\n",
      "/home/alvaro/Documents/phd/TADS/scikit-criteria/skcriteria/agg/electre.py:448: SKCriteriaFutureWarning: Call to deprecated function (or staticmethod) electre2. (electre2 implementation will change in version after 0.8) -- Deprecated since version 0.8.\n",
      "  ) = electre2(\n",
      "/home/alvaro/Documents/phd/TADS/scikit-criteria/skcriteria/agg/electre.py:448: SKCriteriaFutureWarning: Call to deprecated function (or staticmethod) electre2. (electre2 implementation will change in version after 0.8) -- Deprecated since version 0.8.\n",
      "  ) = electre2(\n",
      "/home/alvaro/Documents/phd/TADS/scikit-criteria/skcriteria/agg/electre.py:448: SKCriteriaFutureWarning: Call to deprecated function (or staticmethod) electre2. (electre2 implementation will change in version after 0.8) -- Deprecated since version 0.8.\n",
      "  ) = electre2(\n",
      "/home/alvaro/Documents/phd/TADS/scikit-criteria/skcriteria/agg/electre.py:448: SKCriteriaFutureWarning: Call to deprecated function (or staticmethod) electre2. (electre2 implementation will change in version after 0.8) -- Deprecated since version 0.8.\n",
      "  ) = electre2(\n",
      "/home/alvaro/Documents/phd/TADS/scikit-criteria/skcriteria/agg/electre.py:448: SKCriteriaFutureWarning: Call to deprecated function (or staticmethod) electre2. (electre2 implementation will change in version after 0.8) -- Deprecated since version 0.8.\n",
      "  ) = electre2(\n",
      "/home/alvaro/Documents/phd/TADS/scikit-criteria/skcriteria/agg/electre.py:448: SKCriteriaFutureWarning: Call to deprecated function (or staticmethod) electre2. (electre2 implementation will change in version after 0.8) -- Deprecated since version 0.8.\n",
      "  ) = electre2(\n",
      "/home/alvaro/Documents/phd/TADS/scikit-criteria/skcriteria/agg/electre.py:448: SKCriteriaFutureWarning: Call to deprecated function (or staticmethod) electre2. (electre2 implementation will change in version after 0.8) -- Deprecated since version 0.8.\n",
      "  ) = electre2(\n",
      "/home/alvaro/Documents/phd/TADS/scikit-criteria/skcriteria/agg/electre.py:448: SKCriteriaFutureWarning: Call to deprecated function (or staticmethod) electre2. (electre2 implementation will change in version after 0.8) -- Deprecated since version 0.8.\n",
      "  ) = electre2(\n",
      "/home/alvaro/Documents/phd/TADS/scikit-criteria/skcriteria/agg/electre.py:448: SKCriteriaFutureWarning: Call to deprecated function (or staticmethod) electre2. (electre2 implementation will change in version after 0.8) -- Deprecated since version 0.8.\n",
      "  ) = electre2(\n",
      "/home/alvaro/Documents/phd/TADS/scikit-criteria/skcriteria/agg/electre.py:448: SKCriteriaFutureWarning: Call to deprecated function (or staticmethod) electre2. (electre2 implementation will change in version after 0.8) -- Deprecated since version 0.8.\n",
      "  ) = electre2(\n",
      "/home/alvaro/Documents/phd/TADS/scikit-criteria/skcriteria/agg/electre.py:448: SKCriteriaFutureWarning: Call to deprecated function (or staticmethod) electre2. (electre2 implementation will change in version after 0.8) -- Deprecated since version 0.8.\n",
      "  ) = electre2(\n"
     ]
    },
    {
     "data": {
      "text/plain": [
       "<RanksComparator [ranks=['Original', 'Untied1']]>"
      ]
     },
     "execution_count": 6,
     "metadata": {},
     "output_type": "execute_result"
    }
   ],
   "source": [
    "# run the method evaluation\n",
    "checker = TransitivityChecker(ws_pipe)\n",
    "checker.evaluate(dm=dm)"
   ]
  },
  {
   "cell_type": "markdown",
   "id": "ce7049b5-35cf-4db5-a3c5-2aa7728dea49",
   "metadata": {},
   "source": [
    "### Untying and Recomposition strategies"
   ]
  },
  {
   "cell_type": "code",
   "execution_count": null,
   "id": "e428cdcd-c574-4729-8ace-903781f2b79d",
   "metadata": {},
   "outputs": [],
   "source": []
  },
  {
   "cell_type": "markdown",
   "id": "62c09868-356c-4d3c-80c0-cca063083b7e",
   "metadata": {},
   "source": [
    "## Further read\n",
    "\n",
    "- [Tutorial on `RanksComparator`](./rankcmp.ipynb)"
   ]
  }
 ],
 "metadata": {
  "kernelspec": {
   "display_name": "Python 3 (ipykernel)",
   "language": "python",
   "name": "python3"
  },
  "language_info": {
   "codemirror_mode": {
    "name": "ipython",
    "version": 3
   },
   "file_extension": ".py",
   "mimetype": "text/x-python",
   "name": "python",
   "nbconvert_exporter": "python",
   "pygments_lexer": "ipython3",
   "version": "3.12.10"
  }
 },
 "nbformat": 4,
 "nbformat_minor": 5
}
